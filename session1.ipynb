{
 "cells": [
  {
   "cell_type": "code",
   "execution_count": 1,
   "metadata": {},
   "outputs": [
    {
     "name": "stdout",
     "output_type": "stream",
     "text": [
      "numbers divisible by 7 but not 5 multiples \n",
      "\n",
      "[2002, 2009, 2016, 2023, 2037, 2044, 2051, 2058, 2072, 2079, 2086, 2093, 2107, 2114, 2121, 2128, 2142, 2149, 2156, 2163, 2177, 2184, 2191, 2198, 2212, 2219, 2226, 2233, 2247, 2254, 2261, 2268, 2282, 2289, 2296, 2303, 2317, 2324, 2331, 2338, 2352, 2359, 2366, 2373, 2387, 2394, 2401, 2408, 2422, 2429, 2436, 2443, 2457, 2464, 2471, 2478, 2492, 2499, 2506, 2513, 2527, 2534, 2541, 2548, 2562, 2569, 2576, 2583, 2597, 2604, 2611, 2618, 2632, 2639, 2646, 2653, 2667, 2674, 2681, 2688, 2702, 2709, 2716, 2723, 2737, 2744, 2751, 2758, 2772, 2779, 2786, 2793, 2807, 2814, 2821, 2828, 2842, 2849, 2856, 2863, 2877, 2884, 2891, 2898, 2912, 2919, 2926, 2933, 2947, 2954, 2961, 2968, 2982, 2989, 2996, 3003, 3017, 3024, 3031, 3038, 3052, 3059, 3066, 3073, 3087, 3094, 3101, 3108, 3122, 3129, 3136, 3143, 3157, 3164, 3171, 3178, 3192, 3199]\n"
     ]
    }
   ],
   "source": [
    "print(\"numbers divisible by 7 but not 5 multiples \\n\")\n",
    "x=2000;\n",
    "y=3200;\n",
    "res = []\n",
    "while x <= y:\n",
    "    if (x % 5 != 0 and x % 7 ==0):\n",
    "        res.append(x)\n",
    "    x += 1\n",
    "print(res)"
   ]
  },
  {
   "cell_type": "code",
   "execution_count": 2,
   "metadata": {},
   "outputs": [
    {
     "name": "stdout",
     "output_type": "stream",
     "text": [
      "\n",
      " First name and last name \n",
      "\n"
     ]
    },
    {
     "name": "stdin",
     "output_type": "stream",
     "text": [
      "enter first name:  mani\n",
      "enter last name:  kumar\n"
     ]
    },
    {
     "name": "stdout",
     "output_type": "stream",
     "text": [
      "kumar   mani\n"
     ]
    }
   ],
   "source": [
    "print(\"\\n First name and last name \\n\")\n",
    "FirstName = input(\"enter first name: \")\n",
    "LastName = input(\"enter last name: \")\n",
    "print(LastName,\" \",FirstName)"
   ]
  },
  {
   "cell_type": "code",
   "execution_count": 3,
   "metadata": {},
   "outputs": [
    {
     "name": "stdout",
     "output_type": "stream",
     "text": [
      "\n",
      " sphere volume \n",
      "\n"
     ]
    },
    {
     "name": "stdin",
     "output_type": "stream",
     "text": [
      "enter radius value:  12\n"
     ]
    },
    {
     "name": "stdout",
     "output_type": "stream",
     "text": [
      "volume =  7241.142857142856\n"
     ]
    }
   ],
   "source": [
    "print(\"\\n sphere volume \\n\") \n",
    "r_string = input('enter radius value: ')\n",
    "r = int(r_string)\n",
    "res = (4/3) * (22/7) * (r*r*r)\n",
    "print(\"volume = \", res)"
   ]
  },
  {
   "cell_type": "code",
   "execution_count": 4,
   "metadata": {},
   "outputs": [
    {
     "name": "stdout",
     "output_type": "stream",
     "text": [
      "\n",
      " Word reverse \n",
      "\n"
     ]
    },
    {
     "name": "stdin",
     "output_type": "stream",
     "text": [
      "enter word to reverse:  manikumar\n"
     ]
    },
    {
     "name": "stdout",
     "output_type": "stream",
     "text": [
      "reversed string:  ramukinam\n"
     ]
    }
   ],
   "source": [
    "print(\"\\n Word reverse \\n\") \n",
    "r_string = input('enter word to reverse: ')\n",
    "len_string = len(r_string)\n",
    "rev_string = str()\n",
    "i = 0\n",
    "while len_string - 1 >= i:\n",
    "    rev_string = rev_string + r_string[len_string - 1]\n",
    "    len_string -= 1\n",
    "print(\"reversed string: \",rev_string)"
   ]
  },
  {
   "cell_type": "code",
   "execution_count": 5,
   "metadata": {},
   "outputs": [
    {
     "name": "stdout",
     "output_type": "stream",
     "text": [
      "\n",
      " Stars \n",
      "\n"
     ]
    },
    {
     "name": "stdin",
     "output_type": "stream",
     "text": [
      "max no. of stars to be printed:  7\n"
     ]
    },
    {
     "name": "stdout",
     "output_type": "stream",
     "text": [
      "*\n",
      "\n",
      "* *\n",
      "\n",
      "* * *\n",
      "\n",
      "* * * *\n",
      "\n",
      "* * * * *\n",
      "\n",
      "* * * * * *\n",
      "\n",
      "* * * * * * *\n",
      "\n",
      "* * * * * *\n",
      "\n",
      "* * * * *\n",
      "\n",
      "* * * *\n",
      "\n",
      "* * *\n",
      "\n",
      "* *\n",
      "\n",
      "*\n",
      "\n"
     ]
    }
   ],
   "source": [
    "print(\"\\n Stars \\n\") \n",
    "stars = input(\"max no. of stars to be printed: \")\n",
    "int_stars = int(stars)\n",
    "for x in range(0, int_stars+1):\n",
    "    if(x == int_stars):\n",
    "        #print(\"x value\",x)\n",
    "        for i in range (int_stars, 0 , -1):\n",
    "            #print(\"i value\", i)\n",
    "            for z in range (i, 0 , -1):\n",
    "                if (z == 1):\n",
    "                    print(\"*\\n\")\n",
    "                else:\n",
    "                    print(\"* \", end='')\n",
    "    else:\n",
    "        for y in range (0, x):\n",
    "            if (y == x-1):\n",
    "                print(\"*\\n\")\n",
    "            else:\n",
    "                print(\"* \", end='')"
   ]
  },
  {
   "cell_type": "code",
   "execution_count": 6,
   "metadata": {},
   "outputs": [
    {
     "name": "stdout",
     "output_type": "stream",
     "text": [
      "print numbers taking from user input \n",
      "\n"
     ]
    },
    {
     "name": "stdin",
     "output_type": "stream",
     "text": [
      "enter numbers separated by comma:  12,23,456,785,234\n"
     ]
    },
    {
     "name": "stdout",
     "output_type": "stream",
     "text": [
      "['12', '23', '456', '785', '234']\n"
     ]
    }
   ],
   "source": [
    "print(\"print numbers taking from user input \\n\")\n",
    "strList = input(\"enter numbers separated by comma: \")\n",
    "numList = strList.split(\",\")\n",
    "print(numList)"
   ]
  },
  {
   "cell_type": "code",
   "execution_count": 7,
   "metadata": {},
   "outputs": [
    {
     "name": "stdout",
     "output_type": "stream",
     "text": [
      "print string\n",
      "\n",
      "WE, THE PEOPLE OF INDIA, \n",
      "\t having solemnly resolved to constitute India into a SOVEREIGN,! \n",
      " \t \t SOCIALIST, SECULAR, DEMOCRATIC REPUBLIC \n",
      " \t \t and to secure to all its citizens\n"
     ]
    }
   ],
   "source": [
    "print(\"print string\\n\")\n",
    "print(\"WE, THE PEOPLE OF INDIA, \\n\\t having solemnly resolved to constitute India into a SOVEREIGN,! \\n \\t \\t SOCIALIST, SECULAR, DEMOCRATIC REPUBLIC \\n \\t \\t and to secure to all its citizens\")"
   ]
  },
  {
   "cell_type": "code",
   "execution_count": null,
   "metadata": {},
   "outputs": [],
   "source": []
  }
 ],
 "metadata": {
  "kernelspec": {
   "display_name": "Python 3",
   "language": "python",
   "name": "python3"
  },
  "language_info": {
   "codemirror_mode": {
    "name": "ipython",
    "version": 3
   },
   "file_extension": ".py",
   "mimetype": "text/x-python",
   "name": "python",
   "nbconvert_exporter": "python",
   "pygments_lexer": "ipython3",
   "version": "3.7.3"
  }
 },
 "nbformat": 4,
 "nbformat_minor": 4
}
