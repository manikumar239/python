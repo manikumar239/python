{
 "cells": [
  {
   "cell_type": "code",
   "execution_count": 87,
   "metadata": {},
   "outputs": [
    {
     "data": {
      "text/html": [
       "<div>\n",
       "<style>\n",
       "    .dataframe thead tr:only-child th {\n",
       "        text-align: right;\n",
       "    }\n",
       "\n",
       "    .dataframe thead th {\n",
       "        text-align: left;\n",
       "    }\n",
       "\n",
       "    .dataframe tbody tr th {\n",
       "        vertical-align: top;\n",
       "    }\n",
       "</style>\n",
       "<table border=\"1\" class=\"dataframe\">\n",
       "  <thead>\n",
       "    <tr style=\"text-align: right;\">\n",
       "      <th></th>\n",
       "      <th>X</th>\n",
       "      <th>Y</th>\n",
       "    </tr>\n",
       "  </thead>\n",
       "  <tbody>\n",
       "    <tr>\n",
       "      <th>0</th>\n",
       "      <td>7</td>\n",
       "      <td>2</td>\n",
       "    </tr>\n",
       "    <tr>\n",
       "      <th>1</th>\n",
       "      <td>2</td>\n",
       "      <td>1</td>\n",
       "    </tr>\n",
       "    <tr>\n",
       "      <th>2</th>\n",
       "      <td>0</td>\n",
       "      <td>0</td>\n",
       "    </tr>\n",
       "    <tr>\n",
       "      <th>3</th>\n",
       "      <td>3</td>\n",
       "      <td>1</td>\n",
       "    </tr>\n",
       "    <tr>\n",
       "      <th>4</th>\n",
       "      <td>4</td>\n",
       "      <td>2</td>\n",
       "    </tr>\n",
       "    <tr>\n",
       "      <th>5</th>\n",
       "      <td>2</td>\n",
       "      <td>2</td>\n",
       "    </tr>\n",
       "    <tr>\n",
       "      <th>6</th>\n",
       "      <td>5</td>\n",
       "      <td>1</td>\n",
       "    </tr>\n",
       "    <tr>\n",
       "      <th>7</th>\n",
       "      <td>0</td>\n",
       "      <td>0</td>\n",
       "    </tr>\n",
       "    <tr>\n",
       "      <th>8</th>\n",
       "      <td>3</td>\n",
       "      <td>1</td>\n",
       "    </tr>\n",
       "    <tr>\n",
       "      <th>9</th>\n",
       "      <td>4</td>\n",
       "      <td>2</td>\n",
       "    </tr>\n",
       "  </tbody>\n",
       "</table>\n",
       "</div>"
      ],
      "text/plain": [
       "   X  Y\n",
       "0  7  2\n",
       "1  2  1\n",
       "2  0  0\n",
       "3  3  1\n",
       "4  4  2\n",
       "5  2  2\n",
       "6  5  1\n",
       "7  0  0\n",
       "8  3  1\n",
       "9  4  2"
      ]
     },
     "execution_count": 87,
     "metadata": {},
     "output_type": "execute_result"
    }
   ],
   "source": [
    "#How-to-count-distance-to-the-previous-zero\n",
    "import pandas as pd\n",
    "import numpy as np\n",
    "df = pd.DataFrame({'X': [7, 2, 0, 3, 4, 2, 5, 0, 3, 4]}) \n",
    "series = pd.Series(df[\"X\"]).values.tolist() \n",
    "indexZero = []\n",
    "res = [] \n",
    "for index, w in enumerate(series):\n",
    "    if w == 0:\n",
    "        indexZero.append(index)\n",
    "for index, w in enumerate(series):\n",
    "    if w == 0:\n",
    "        res.append(w)\n",
    "    else:\n",
    "        res.append(min(list(map(lambda x: abs(index-x), indexZero))))\n",
    "df[\"Y\"] = res\n",
    "df"
   ]
  },
  {
   "cell_type": "code",
   "execution_count": 119,
   "metadata": {},
   "outputs": [
    {
     "data": {
      "text/plain": [
       "[5.0,\n",
       " 4.666666666666667,\n",
       " 5.666666666666667,\n",
       " 6.666666666666667,\n",
       " 9.666666666666666,\n",
       " 28.666666666666668,\n",
       " 49.333333333333336,\n",
       " 72.66666666666667,\n",
       " 84.0,\n",
       " 93.33333333333333]"
      ]
     },
     "execution_count": 119,
     "metadata": {},
     "output_type": "execute_result"
    }
   ],
   "source": [
    "#function to find moving average in an array over a window:\n",
    "l = [3, 5, 7, 2, 8, 10, 11, 65, 72, 81, 99, 100, 150]\n",
    "length = len(l)\n",
    "k=3\n",
    "reslist = []\n",
    "res = 0\n",
    "klist = list(range(k))\n",
    "for i in range(10):\n",
    "    if i <= length - k:\n",
    "        for j in klist:\n",
    "            res += l[j+i]\n",
    "        reslist.append(res/k)\n",
    "    res = 0\n",
    "reslist       "
   ]
  },
  {
   "cell_type": "code",
   "execution_count": 73,
   "metadata": {},
   "outputs": [],
   "source": [
    "from datetime import datetime\n",
    "import numpy as np\n",
    "import numpy.random as rn"
   ]
  },
  {
   "cell_type": "code",
   "execution_count": 67,
   "metadata": {},
   "outputs": [
    {
     "data": {
      "text/plain": [
       "DatetimeIndex(['2015-01-01', '2015-01-02', '2015-01-05', '2015-01-06',\n",
       "               '2015-01-07', '2015-01-08', '2015-01-09', '2015-01-12',\n",
       "               '2015-01-13', '2015-01-14',\n",
       "               ...\n",
       "               '2015-12-18', '2015-12-21', '2015-12-22', '2015-12-23',\n",
       "               '2015-12-24', '2015-12-25', '2015-12-28', '2015-12-29',\n",
       "               '2015-12-30', '2015-12-31'],\n",
       "              dtype='datetime64[ns]', length=261, freq='B')"
      ]
     },
     "execution_count": 67,
     "metadata": {},
     "output_type": "execute_result"
    }
   ],
   "source": [
    "date_rng = pd.date_range(start=\"1/1/2015\", end = \"31/12/2015\", freq=\"B\")\n",
    "date_rng"
   ]
  },
  {
   "cell_type": "code",
   "execution_count": 75,
   "metadata": {},
   "outputs": [
    {
     "data": {
      "text/plain": [
       "2015-01-01    0.698516\n",
       "2015-01-02    0.672260\n",
       "2015-01-05    0.830848\n",
       "2015-01-06    0.982325\n",
       "2015-01-07    0.181641\n",
       "2015-01-08    0.048946\n",
       "2015-01-09    0.033766\n",
       "2015-01-12    0.628650\n",
       "2015-01-13    0.984764\n",
       "2015-01-14    0.305559\n",
       "2015-01-15    0.443062\n",
       "2015-01-16    0.551597\n",
       "2015-01-19    0.147595\n",
       "2015-01-20    0.632564\n",
       "2015-01-21    0.844069\n",
       "2015-01-22    0.987080\n",
       "2015-01-23    0.171269\n",
       "2015-01-26    0.327863\n",
       "2015-01-27    0.123431\n",
       "2015-01-28    0.003992\n",
       "2015-01-29    0.079108\n",
       "2015-01-30    0.879166\n",
       "2015-02-02    0.782162\n",
       "2015-02-03    0.517967\n",
       "2015-02-04    0.404311\n",
       "2015-02-05    0.985497\n",
       "2015-02-06    0.577839\n",
       "2015-02-09    0.681201\n",
       "2015-02-10    0.691712\n",
       "2015-02-11    0.440690\n",
       "                ...   \n",
       "2015-11-20    0.334199\n",
       "2015-11-23    0.951511\n",
       "2015-11-24    0.652088\n",
       "2015-11-25    0.668282\n",
       "2015-11-26    0.869083\n",
       "2015-11-27    0.502102\n",
       "2015-11-30    0.770890\n",
       "2015-12-01    0.347414\n",
       "2015-12-02    0.556632\n",
       "2015-12-03    0.029834\n",
       "2015-12-04    0.681360\n",
       "2015-12-07    0.975668\n",
       "2015-12-08    0.677736\n",
       "2015-12-09    0.747150\n",
       "2015-12-10    0.068597\n",
       "2015-12-11    0.400591\n",
       "2015-12-14    0.470584\n",
       "2015-12-15    0.275234\n",
       "2015-12-16    0.806851\n",
       "2015-12-17    0.266948\n",
       "2015-12-18    0.570426\n",
       "2015-12-21    0.188404\n",
       "2015-12-22    0.945841\n",
       "2015-12-23    0.699303\n",
       "2015-12-24    0.369441\n",
       "2015-12-25    0.252291\n",
       "2015-12-28    0.973511\n",
       "2015-12-29    0.061760\n",
       "2015-12-30    0.623636\n",
       "2015-12-31    0.885636\n",
       "Freq: B, Length: 261, dtype: float64"
      ]
     },
     "execution_count": 75,
     "metadata": {},
     "output_type": "execute_result"
    }
   ],
   "source": [
    "series = pd.Series(rn.rand(len(date_rng)), index = date_rng)\n",
    "series"
   ]
  },
  {
   "cell_type": "code",
   "execution_count": 77,
   "metadata": {},
   "outputs": [
    {
     "data": {
      "text/plain": [
       "24.7335480477106"
      ]
     },
     "execution_count": 77,
     "metadata": {},
     "output_type": "execute_result"
    }
   ],
   "source": [
    "#sum of values of each wednesday index\n",
    "series[date_rng.dayofweek == 2].sum()"
   ]
  },
  {
   "cell_type": "code",
   "execution_count": 83,
   "metadata": {},
   "outputs": [
    {
     "name": "stdout",
     "output_type": "stream",
     "text": [
      "avg for month 1: 0.479912237574271\n",
      "avg for month 2: 0.6357097428190097\n",
      "avg for month 3: 0.5417797195724089\n",
      "avg for month 4: 0.47482990113109885\n",
      "avg for month 5: 0.4492286025781219\n",
      "avg for month 6: 0.48499530418097875\n",
      "avg for month 7: 0.5579425054219784\n",
      "avg for month 8: 0.4825215250866877\n",
      "avg for month 9: 0.5368612058076034\n",
      "avg for month 10: 0.49997434839392874\n",
      "avg for month 11: 0.57576283085701\n",
      "avg for month 12: 0.5162977587211033\n"
     ]
    }
   ],
   "source": [
    "for i in range(1,13):\n",
    "    print(\"avg for month {}:\".format(i) , series[date_rng.month == i].mean())"
   ]
  },
  {
   "cell_type": "code",
   "execution_count": 85,
   "metadata": {},
   "outputs": [
    {
     "data": {
      "text/plain": [
       "2015-01-31    0.987080\n",
       "2015-05-31    0.985497\n",
       "2015-09-30    0.994101\n",
       "2016-01-31    0.993249\n",
       "Freq: 4M, dtype: float64"
      ]
     },
     "execution_count": 85,
     "metadata": {},
     "output_type": "execute_result"
    }
   ],
   "source": [
    "series.groupby(pd.Grouper(freq='4M')).max()"
   ]
  }
 ],
 "metadata": {
  "kernelspec": {
   "display_name": "Python 3",
   "language": "python",
   "name": "python3"
  },
  "language_info": {
   "codemirror_mode": {
    "name": "ipython",
    "version": 3
   },
   "file_extension": ".py",
   "mimetype": "text/x-python",
   "name": "python",
   "nbconvert_exporter": "python",
   "pygments_lexer": "ipython3",
   "version": "3.6.3"
  }
 },
 "nbformat": 4,
 "nbformat_minor": 2
}
