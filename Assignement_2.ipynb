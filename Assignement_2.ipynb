{
 "cells": [
  {
   "cell_type": "code",
   "execution_count": 1,
   "metadata": {
    "collapsed": true
   },
   "outputs": [],
   "source": [
    "#myreduce function\n",
    "def myreduce(mylist,opera):\n",
    "    temp = 0\n",
    "    if ( opera == \"add\" ) :\n",
    "        for s in range(len(mylist)):\n",
    "            temp = temp + mylist[s]\n",
    "        res = temp\n",
    "        return(res)\n",
    "    if( opera == \"multiply\"):\n",
    "        for i in range(len(mylist)-1):\n",
    "            if(i > 0):\n",
    "                mylist[i] = temp\n",
    "            temp = mylist[i] * mylist[i+1]\n",
    "        res = temp\n",
    "        return(res)\n",
    "    if( opera == \"division\"):\n",
    "        for i in range(len(mylist)-1):\n",
    "            if(i > 0):\n",
    "                mylist[i] = temp\n",
    "            temp = mylist[i] / mylist[i+1]\n",
    "        res = temp\n",
    "        return(res) \n",
    "    if ( opera == \"substract\" ):\n",
    "        for a in range(len(mylist)-1):\n",
    "            if(a >0):\n",
    "                mylist[a] = temp\n",
    "            temp = mylist[a] - mylist[a+1]\n",
    "        res = temp\n",
    "        return(res)\n",
    "    if( opera == \"max\" ):\n",
    "        res = max(mylist)\n",
    "        return(res)\n",
    "            "
   ]
  },
  {
   "cell_type": "code",
   "execution_count": 6,
   "metadata": {},
   "outputs": [
    {
     "name": "stdout",
     "output_type": "stream",
     "text": [
      "enter the elements separated by , to for reduce function: 141414,243,25,25,231,1213\n",
      "[141414, 243, 25, 25, 231, 1213]\n",
      "Enter any one of add, multipy, substract, division,max: max\n",
      "141414\n"
     ]
    }
   ],
   "source": [
    "str_list = input(\"enter the elements separated by , to for reduce function: \")\n",
    "items_list =(str_list.split(\",\"))\n",
    "items = []\n",
    "for i in range(len(items_list)):\n",
    "    items.append(int(items_list[i]))\n",
    "print(items)\n",
    "opp = input(\"Enter any one of add, multipy, substract, division,max: \")\n",
    "print(myreduce(items, opp ))"
   ]
  },
  {
   "cell_type": "code",
   "execution_count": 5,
   "metadata": {
    "collapsed": true
   },
   "outputs": [],
   "source": [
    "#filter function for 5 multiples\n",
    "def myfilter(mylist):\n",
    "    res = []\n",
    "    for i in range(len(mylist)):\n",
    "        if(mylist[i]%5 == 0):\n",
    "            res.append(mylist[i])\n",
    "    return(res)\n",
    "    "
   ]
  },
  {
   "cell_type": "code",
   "execution_count": 6,
   "metadata": {},
   "outputs": [
    {
     "name": "stdout",
     "output_type": "stream",
     "text": [
      "[0, 5, 10, 15, 20, 25, 30, 35, 40, 45, 50, 55, 60, 65, 70, 75, 80, 85, 90, 95, 100, 105, 110, 115, 120, 125, 130, 135, 140, 145, 150, 155, 160, 165, 170, 175, 180, 185, 190, 195]\n"
     ]
    }
   ],
   "source": [
    "mylist = range(200)\n",
    "print(myfilter(mylist))"
   ]
  },
  {
   "cell_type": "code",
   "execution_count": 10,
   "metadata": {
    "collapsed": true
   },
   "outputs": [],
   "source": [
    "#lognest word\n",
    "def longestWord(mylist):\n",
    "    #listLen = [len(mylist[i]) for i in range(len(mylist)))]\n",
    "    listLen = []\n",
    "    for i in range(len(mylist)):\n",
    "        listLen.append(len(mylist[i]))\n",
    "    maxValue = max(listLen)\n",
    "    maxValue_index = int(listLen.index(maxValue))\n",
    "    return(mylist[maxValue_index])\n",
    "        "
   ]
  },
  {
   "cell_type": "code",
   "execution_count": 11,
   "metadata": {},
   "outputs": [
    {
     "name": "stdout",
     "output_type": "stream",
     "text": [
      "enter the words separated by ,: manikuamr,mani,1231243,qwerqqw,sfads\n",
      "['manikuamr', 'mani', '1231243', 'qwerqqw', 'sfads']\n",
      "longest word is  manikuamr\n"
     ]
    }
   ],
   "source": [
    "str_list = input(\"enter the words separated by ,: \")\n",
    "words_list =(str_list.split(\",\"))\n",
    "print(words_list)\n",
    "print(\"longest word is \", longestWord(words_list))"
   ]
  },
  {
   "cell_type": "code",
   "execution_count": 36,
   "metadata": {},
   "outputs": [
    {
     "name": "stdout",
     "output_type": "stream",
     "text": [
      "['x', 'xx', 'xxx', 'xxxx', 'y', 'yy', 'yyy', 'yyyy', 'z', 'zz', 'zzz', 'zzzz']\n",
      "['x', 'y', 'z', 'xx', 'yy', 'zz', 'xxx', 'yyy', 'zzz', 'xxxx', 'yyyy', 'zzzz']\n",
      "['A', 'C', 'A', 'D', 'G', 'I', 'L', 'D']\n"
     ]
    }
   ],
   "source": [
    "#List comprehens\n",
    "inputStr = \"xyz\"\n",
    "res = [ item*num for item in inputStr for num in range(1,5)]\n",
    "print(res)\n",
    "\n",
    "res1 = [ item*i for i in range(1,5) for item in inputStr ]\n",
    "print(res1)\n",
    "\n",
    "inputStr = \"ACADGILD\"\n",
    "res2 = [item for item in inputStr]\n",
    "print(res2)\n"
   ]
  },
  {
   "cell_type": "code",
   "execution_count": 1,
   "metadata": {
    "collapsed": true
   },
   "outputs": [],
   "source": [
    "#vowels check\n",
    "def vowels_check(string):\n",
    "    vowel = ['a','e','i','o','u']\n",
    "    string = string.lower()\n",
    "    for i in range(len(vowel)):\n",
    "        if string == vowel[i]:\n",
    "            return True\n",
    "            break\n",
    "        elif i == len(vowel)-1:\n",
    "            return "
   ]
  },
  {
   "cell_type": "code",
   "execution_count": 2,
   "metadata": {},
   "outputs": [
    {
     "name": "stdout",
     "output_type": "stream",
     "text": [
      "enter character :A\n",
      "True\n"
     ]
    }
   ],
   "source": [
    "string = input(\"enter character :\")\n",
    "print(vowels_check(string))"
   ]
  },
  {
   "cell_type": "code",
   "execution_count": 3,
   "metadata": {
    "collapsed": true
   },
   "outputs": [],
   "source": [
    "#map function\n",
    "def wordsLen(myword):\n",
    "    return(len(myword))\n",
    "    "
   ]
  },
  {
   "cell_type": "code",
   "execution_count": 5,
   "metadata": {},
   "outputs": [
    {
     "name": "stdout",
     "output_type": "stream",
     "text": [
      "enter words separated by , :hello,rajasd,asdfs,wwtsa,asd\n",
      "['hello', 'rajasd', 'asdfs', 'wwtsa', 'asd']\n",
      "[5, 6, 5, 5, 3]\n"
     ]
    }
   ],
   "source": [
    "words = input(\"enter words separated by , :\")\n",
    "strlist = words.split(\",\")\n",
    "print(strlist)\n",
    "print(list(map(wordsLen, strlist)))"
   ]
  },
  {
   "cell_type": "code",
   "execution_count": 11,
   "metadata": {
    "collapsed": true
   },
   "outputs": [],
   "source": [
    "#filter function\n",
    "def wordsLen(myword):\n",
    "    n = 4\n",
    "    if len(myword) > n:\n",
    "        return True\n"
   ]
  },
  {
   "cell_type": "code",
   "execution_count": 14,
   "metadata": {},
   "outputs": [
    {
     "name": "stdout",
     "output_type": "stream",
     "text": [
      "enter words separated by , :hello,how,ar,you,asdfs,asdgsaaset,wrw,s\n",
      "['hello', 'how', 'ar', 'you', 'asdfs', 'asdgsaaset', 'wrw', 's']\n",
      "words with size greater than 4: ['hello', 'asdfs', 'asdgsaaset']\n",
      "words with length greater than 4:  ['hello', 'asdfs', 'asdgsaaset']\n"
     ]
    }
   ],
   "source": [
    "words = input(\"enter words separated by , :\")\n",
    "strlist = words.split(\",\")\n",
    "print(strlist)\n",
    "\n",
    "#Using function\n",
    "print(\"words with size greater than 4:\", list(filter(wordsLen, strlist)))\n",
    "\n",
    "\n",
    "#Using lambda\n",
    "n = 4\n",
    "print(\"words with length greater than 4: \", list(filter(lambda strlist: True if len(strlist) > n else False, strlist)))"
   ]
  },
  {
   "cell_type": "code",
   "execution_count": 7,
   "metadata": {},
   "outputs": [
    {
     "name": "stdout",
     "output_type": "stream",
     "text": [
      "area is  984.3779761859771\n"
     ]
    }
   ],
   "source": [
    "#Triangle are using class\n",
    "class triangleArea():\n",
    "    def __init__(self,s,length,width,height):\n",
    "        self.a = length\n",
    "        self.b = width\n",
    "        self.c = height\n",
    "        self.s = s\n",
    "        \n",
    "class calArea(triangleArea):\n",
    "    def area(self):\n",
    "        return((self.s*(self.s-self.a)*(self.s-self.b)*(self.s-self.c)) ** 0.5)\n",
    "\n",
    "#tr = triangleArea(10,20,30)\n",
    "ar = calArea(10,5,200,112)\n",
    "print(\"area is \",ar.area())"
   ]
  }
 ],
 "metadata": {
  "kernelspec": {
   "display_name": "Python 3",
   "language": "python",
   "name": "python3"
  },
  "language_info": {
   "codemirror_mode": {
    "name": "ipython",
    "version": 3
   },
   "file_extension": ".py",
   "mimetype": "text/x-python",
   "name": "python",
   "nbconvert_exporter": "python",
   "pygments_lexer": "ipython3",
   "version": "3.6.3"
  }
 },
 "nbformat": 4,
 "nbformat_minor": 2
}
